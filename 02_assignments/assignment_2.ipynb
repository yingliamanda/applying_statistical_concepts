{
 "cells": [
  {
   "cell_type": "markdown",
   "id": "7b0bcac6-5086-4f4e-928a-570a9ff7ae58",
   "metadata": {},
   "source": [
    "# Assignment 2"
   ]
  },
  {
   "cell_type": "markdown",
   "id": "5fce0350-2a17-4e93-8d4c-0b8748fdfc32",
   "metadata": {},
   "source": [
    "As before, if a question can be answered with 'yes/no', or a numeric value, you may simply state as much. If you incorporate code from the internet (which is not required and generally not advisable), please cite the source within your code (providing a URL is sufficient).\n",
    "\n",
    "We will go through comparable code and concepts in the live learning sessions. If you run into trouble, start by using the help `help()` function in Python, to get information about the datasets and function in question. The internet is also a great resource when coding (though note that no outside searches are required by the assignment!). If you do incorporate code from the internet, please cite the source within your code (providing a URL is sufficient).\n",
    "\n",
    "Please bring questions that you cannot work out on your own to office hours, work periods or share with your peers on Slack. We will work with you through the issue.\n",
    "\n",
    "If you like, you may collaborate with others in the cohort. If you choose to do so, please indicate with whom you have worked with in your pull request by tagging their GitHub username. Separate submissions are required."
   ]
  },
  {
   "cell_type": "code",
   "execution_count": 1,
   "id": "ffd43063",
   "metadata": {},
   "outputs": [],
   "source": [
    "import numpy as np\n",
    "import pandas as pd\n",
    "import matplotlib.pyplot as plt\n",
    "import statsmodels.api as sm\n",
    "\n",
    "# Import specific objects\n",
    "from sklearn.preprocessing import StandardScaler\n",
    "from ISLP import load_data"
   ]
  },
  {
   "cell_type": "markdown",
   "id": "4a59e07e-6abb-4f6c-9c1b-760b11626ce7",
   "metadata": {},
   "source": [
    "### Question 1: Classification using KNN\n",
    "\n",
    "We'll now use the `Caravan` dataset from the `ISLP` package. (You may use `Caravan.describe()` to review details of the dataset.) In this dataset, the response variable of interest is `Purchase`, which indicates if a given customer purchased a caravan insurance policy. We will simultaneously use all other variables in the dataset to predict the response variable."
   ]
  },
  {
   "cell_type": "code",
   "execution_count": 3,
   "id": "6449268e-0e33-4976-83cf-5ada4b29597f",
   "metadata": {},
   "outputs": [
    {
     "name": "stdout",
     "output_type": "stream",
     "text": [
      "           MOSTYPE     MAANTHUI      MGEMOMV     MGEMLEEF     MOSHOOFD  \\\n",
      "count  5822.000000  5822.000000  5822.000000  5822.000000  5822.000000   \n",
      "mean     24.253349     1.110615     2.678805     2.991240     5.773617   \n",
      "std      12.846706     0.405842     0.789835     0.814589     2.856760   \n",
      "min       1.000000     1.000000     1.000000     1.000000     1.000000   \n",
      "25%      10.000000     1.000000     2.000000     2.000000     3.000000   \n",
      "50%      30.000000     1.000000     3.000000     3.000000     7.000000   \n",
      "75%      35.000000     1.000000     3.000000     3.000000     8.000000   \n",
      "max      41.000000    10.000000     5.000000     6.000000    10.000000   \n",
      "\n",
      "            MGODRK       MGODPR       MGODOV       MGODGE       MRELGE  ...  \\\n",
      "count  5822.000000  5822.000000  5822.000000  5822.000000  5822.000000  ...   \n",
      "mean      0.696496     4.626932     1.069907     3.258502     6.183442  ...   \n",
      "std       1.003234     1.715843     1.017503     1.597647     1.909482  ...   \n",
      "min       0.000000     0.000000     0.000000     0.000000     0.000000  ...   \n",
      "25%       0.000000     4.000000     0.000000     2.000000     5.000000  ...   \n",
      "50%       0.000000     5.000000     1.000000     3.000000     6.000000  ...   \n",
      "75%       1.000000     6.000000     2.000000     4.000000     7.000000  ...   \n",
      "max       9.000000     9.000000     5.000000     9.000000     9.000000  ...   \n",
      "\n",
      "            ALEVEN     APERSONG      AGEZONG      AWAOREG       ABRAND  \\\n",
      "count  5822.000000  5822.000000  5822.000000  5822.000000  5822.000000   \n",
      "mean      0.076606     0.005325     0.006527     0.004638     0.570079   \n",
      "std       0.377569     0.072782     0.080532     0.077403     0.562058   \n",
      "min       0.000000     0.000000     0.000000     0.000000     0.000000   \n",
      "25%       0.000000     0.000000     0.000000     0.000000     0.000000   \n",
      "50%       0.000000     0.000000     0.000000     0.000000     1.000000   \n",
      "75%       0.000000     0.000000     0.000000     0.000000     1.000000   \n",
      "max       8.000000     1.000000     1.000000     2.000000     7.000000   \n",
      "\n",
      "           AZEILPL     APLEZIER       AFIETS      AINBOED     ABYSTAND  \n",
      "count  5822.000000  5822.000000  5822.000000  5822.000000  5822.000000  \n",
      "mean      0.000515     0.006012     0.031776     0.007901     0.014256  \n",
      "std       0.022696     0.081632     0.210986     0.090463     0.119996  \n",
      "min       0.000000     0.000000     0.000000     0.000000     0.000000  \n",
      "25%       0.000000     0.000000     0.000000     0.000000     0.000000  \n",
      "50%       0.000000     0.000000     0.000000     0.000000     0.000000  \n",
      "75%       0.000000     0.000000     0.000000     0.000000     0.000000  \n",
      "max       1.000000     2.000000     3.000000     2.000000     2.000000  \n",
      "\n",
      "[8 rows x 85 columns]\n",
      "<class 'pandas.core.frame.DataFrame'>\n",
      "RangeIndex: 5822 entries, 0 to 5821\n",
      "Data columns (total 86 columns):\n",
      " #   Column    Non-Null Count  Dtype \n",
      "---  ------    --------------  ----- \n",
      " 0   MOSTYPE   5822 non-null   int64 \n",
      " 1   MAANTHUI  5822 non-null   int64 \n",
      " 2   MGEMOMV   5822 non-null   int64 \n",
      " 3   MGEMLEEF  5822 non-null   int64 \n",
      " 4   MOSHOOFD  5822 non-null   int64 \n",
      " 5   MGODRK    5822 non-null   int64 \n",
      " 6   MGODPR    5822 non-null   int64 \n",
      " 7   MGODOV    5822 non-null   int64 \n",
      " 8   MGODGE    5822 non-null   int64 \n",
      " 9   MRELGE    5822 non-null   int64 \n",
      " 10  MRELSA    5822 non-null   int64 \n",
      " 11  MRELOV    5822 non-null   int64 \n",
      " 12  MFALLEEN  5822 non-null   int64 \n",
      " 13  MFGEKIND  5822 non-null   int64 \n",
      " 14  MFWEKIND  5822 non-null   int64 \n",
      " 15  MOPLHOOG  5822 non-null   int64 \n",
      " 16  MOPLMIDD  5822 non-null   int64 \n",
      " 17  MOPLLAAG  5822 non-null   int64 \n",
      " 18  MBERHOOG  5822 non-null   int64 \n",
      " 19  MBERZELF  5822 non-null   int64 \n",
      " 20  MBERBOER  5822 non-null   int64 \n",
      " 21  MBERMIDD  5822 non-null   int64 \n",
      " 22  MBERARBG  5822 non-null   int64 \n",
      " 23  MBERARBO  5822 non-null   int64 \n",
      " 24  MSKA      5822 non-null   int64 \n",
      " 25  MSKB1     5822 non-null   int64 \n",
      " 26  MSKB2     5822 non-null   int64 \n",
      " 27  MSKC      5822 non-null   int64 \n",
      " 28  MSKD      5822 non-null   int64 \n",
      " 29  MHHUUR    5822 non-null   int64 \n",
      " 30  MHKOOP    5822 non-null   int64 \n",
      " 31  MAUT1     5822 non-null   int64 \n",
      " 32  MAUT2     5822 non-null   int64 \n",
      " 33  MAUT0     5822 non-null   int64 \n",
      " 34  MZFONDS   5822 non-null   int64 \n",
      " 35  MZPART    5822 non-null   int64 \n",
      " 36  MINKM30   5822 non-null   int64 \n",
      " 37  MINK3045  5822 non-null   int64 \n",
      " 38  MINK4575  5822 non-null   int64 \n",
      " 39  MINK7512  5822 non-null   int64 \n",
      " 40  MINK123M  5822 non-null   int64 \n",
      " 41  MINKGEM   5822 non-null   int64 \n",
      " 42  MKOOPKLA  5822 non-null   int64 \n",
      " 43  PWAPART   5822 non-null   int64 \n",
      " 44  PWABEDR   5822 non-null   int64 \n",
      " 45  PWALAND   5822 non-null   int64 \n",
      " 46  PPERSAUT  5822 non-null   int64 \n",
      " 47  PBESAUT   5822 non-null   int64 \n",
      " 48  PMOTSCO   5822 non-null   int64 \n",
      " 49  PVRAAUT   5822 non-null   int64 \n",
      " 50  PAANHANG  5822 non-null   int64 \n",
      " 51  PTRACTOR  5822 non-null   int64 \n",
      " 52  PWERKT    5822 non-null   int64 \n",
      " 53  PBROM     5822 non-null   int64 \n",
      " 54  PLEVEN    5822 non-null   int64 \n",
      " 55  PPERSONG  5822 non-null   int64 \n",
      " 56  PGEZONG   5822 non-null   int64 \n",
      " 57  PWAOREG   5822 non-null   int64 \n",
      " 58  PBRAND    5822 non-null   int64 \n",
      " 59  PZEILPL   5822 non-null   int64 \n",
      " 60  PPLEZIER  5822 non-null   int64 \n",
      " 61  PFIETS    5822 non-null   int64 \n",
      " 62  PINBOED   5822 non-null   int64 \n",
      " 63  PBYSTAND  5822 non-null   int64 \n",
      " 64  AWAPART   5822 non-null   int64 \n",
      " 65  AWABEDR   5822 non-null   int64 \n",
      " 66  AWALAND   5822 non-null   int64 \n",
      " 67  APERSAUT  5822 non-null   int64 \n",
      " 68  ABESAUT   5822 non-null   int64 \n",
      " 69  AMOTSCO   5822 non-null   int64 \n",
      " 70  AVRAAUT   5822 non-null   int64 \n",
      " 71  AAANHANG  5822 non-null   int64 \n",
      " 72  ATRACTOR  5822 non-null   int64 \n",
      " 73  AWERKT    5822 non-null   int64 \n",
      " 74  ABROM     5822 non-null   int64 \n",
      " 75  ALEVEN    5822 non-null   int64 \n",
      " 76  APERSONG  5822 non-null   int64 \n",
      " 77  AGEZONG   5822 non-null   int64 \n",
      " 78  AWAOREG   5822 non-null   int64 \n",
      " 79  ABRAND    5822 non-null   int64 \n",
      " 80  AZEILPL   5822 non-null   int64 \n",
      " 81  APLEZIER  5822 non-null   int64 \n",
      " 82  AFIETS    5822 non-null   int64 \n",
      " 83  AINBOED   5822 non-null   int64 \n",
      " 84  ABYSTAND  5822 non-null   int64 \n",
      " 85  Purchase  5822 non-null   object\n",
      "dtypes: int64(85), object(1)\n",
      "memory usage: 3.8+ MB\n",
      "None\n",
      "   MOSTYPE  MAANTHUI  MGEMOMV  MGEMLEEF  MOSHOOFD  MGODRK  MGODPR  MGODOV  \\\n",
      "0       33         1        3         2         8       0       5       1   \n",
      "1       37         1        2         2         8       1       4       1   \n",
      "2       37         1        2         2         8       0       4       2   \n",
      "3        9         1        3         3         3       2       3       2   \n",
      "4       40         1        4         2        10       1       4       1   \n",
      "\n",
      "   MGODGE  MRELGE  ...  APERSONG  AGEZONG  AWAOREG  ABRAND  AZEILPL  APLEZIER  \\\n",
      "0       3       7  ...         0        0        0       1        0         0   \n",
      "1       4       6  ...         0        0        0       1        0         0   \n",
      "2       4       3  ...         0        0        0       1        0         0   \n",
      "3       4       5  ...         0        0        0       1        0         0   \n",
      "4       4       7  ...         0        0        0       1        0         0   \n",
      "\n",
      "   AFIETS  AINBOED  ABYSTAND  Purchase  \n",
      "0       0        0         0        No  \n",
      "1       0        0         0        No  \n",
      "2       0        0         0        No  \n",
      "3       0        0         0        No  \n",
      "4       0        0         0        No  \n",
      "\n",
      "[5 rows x 86 columns]\n",
      "No     5474\n",
      "Yes     348\n",
      "Name: Purchase, dtype: int64\n"
     ]
    }
   ],
   "source": [
    "# Load the \"Caravan\" dataset using the \"load_data\" function from the ISLP package\n",
    "Caravan = load_data('Caravan')\n",
    "\n",
    "# Add your code here\n",
    "print(Caravan.describe())\n",
    "print(Caravan.info())\n",
    "print(Caravan.head())\n",
    "\n",
    "# Check the distribution of the response variable 'Purchase'\n",
    "print(Caravan['Purchase'].value_counts())"
   ]
  },
  {
   "cell_type": "markdown",
   "id": "ad60779b-cba9-4972-aeeb-b89e65fda11c",
   "metadata": {},
   "source": [
    "Before fitting any model, it is essential to understand our data. Answer the following questions about the `Caravan` dataset (Hint: use `print` and `describe`):  \n",
    "_(i)_ How many observations (rows) does the dataset contain?    \n",
    "_(ii)_ How many variables (columns) does the dataset contain?    \n",
    "_(iii)_ What 'variable' type is the response variable `Purchase` (e.g., 'character', 'factor', 'numeric', etc)? What are the 'levels' of the variable?    \n",
    "_(iv)_ How many predictor variables do we have (Hint: all variables other than `Purchase`)?  "
   ]
  },
  {
   "cell_type": "code",
   "execution_count": 5,
   "id": "67f1b40a",
   "metadata": {},
   "outputs": [
    {
     "name": "stdout",
     "output_type": "stream",
     "text": [
      "The Caravan dataset contains 5822 observations.\n"
     ]
    }
   ],
   "source": [
    "#(i) How many observations (rows) does the dataset contain?\n",
    "# Load the Caravan dataset\n",
    "Caravan = load_data('Caravan')\n",
    "\n",
    "# Get the number of rows and columns\n",
    "rows, columns = Caravan.shape\n",
    "\n",
    "# Print the number of observations (rows)\n",
    "print(f\"The Caravan dataset contains {rows} observations.\")"
   ]
  },
  {
   "cell_type": "code",
   "execution_count": 6,
   "id": "e33b6339",
   "metadata": {},
   "outputs": [
    {
     "name": "stdout",
     "output_type": "stream",
     "text": [
      "The Caravan dataset contains 86 variables.\n"
     ]
    }
   ],
   "source": [
    "# (ii) How many variables (columns) does the dataset contain?\n",
    "Caravan = load_data('Caravan')\n",
    "\n",
    "# Get the number of rows and columns\n",
    "rows, columns = Caravan.shape\n",
    "\n",
    "# Print the number of variables (columns)\n",
    "print(f\"The Caravan dataset contains {columns} variables.\")\n"
   ]
  },
  {
   "cell_type": "code",
   "execution_count": 7,
   "id": "980712ac",
   "metadata": {},
   "outputs": [
    {
     "name": "stdout",
     "output_type": "stream",
     "text": [
      "The 'Purchase' variable type is: object\n",
      "The levels of the 'Purchase' variable are: ['No' 'Yes']\n"
     ]
    }
   ],
   "source": [
    "# (iii)What 'variable' type is the response variable Purchase (e.g., 'character', 'factor', 'numeric', etc)? What are the 'levels' of the variable?\n",
    "Caravan = load_data('Caravan')\n",
    "\n",
    "# Check the type of the 'Purchase' variable\n",
    "purchase_type = Caravan['Purchase'].dtype\n",
    "\n",
    "# Check the unique levels of the 'Purchase' variable\n",
    "purchase_levels = Caravan['Purchase'].unique()\n",
    "\n",
    "print(f\"The 'Purchase' variable type is: {purchase_type}\")\n",
    "print(f\"The levels of the 'Purchase' variable are: {purchase_levels}\")\n"
   ]
  },
  {
   "cell_type": "code",
   "execution_count": 8,
   "id": "5a3a8ec5-98e4-431d-967b-ae1482127de4",
   "metadata": {},
   "outputs": [
    {
     "name": "stdout",
     "output_type": "stream",
     "text": [
      "The number of predictor variables is: 85\n"
     ]
    }
   ],
   "source": [
    "# (iv) How many predictor variables do we have (Hint: all variables other than Purchase)?\n",
    "Caravan = load_data('Caravan')\n",
    "\n",
    "# Total number of columns in the dataset\n",
    "total_columns = Caravan.shape[1]\n",
    "\n",
    "# Number of predictor variables\n",
    "predictor_variables = total_columns - 1\n",
    "\n",
    "print(f\"The number of predictor variables is: {predictor_variables}\")\n"
   ]
  },
  {
   "cell_type": "markdown",
   "id": "5f5d31d9",
   "metadata": {},
   "source": [
    "Next, we must preform 'pre-processing' or 'data munging', to prepare our data for classification/prediction. For KNN, there are three essential steps. A first essential step is to 'standardize' the predictor variables. We can achieve this using the `scaler` method, provided as follows:"
   ]
  },
  {
   "cell_type": "code",
   "execution_count": 9,
   "id": "4c2901b1-82ce-4729-88d9-7d9985336221",
   "metadata": {},
   "outputs": [
    {
     "name": "stdout",
     "output_type": "stream",
     "text": [
      "    MOSTYPE  MAANTHUI   MGEMOMV  MGEMLEEF  MOSHOOFD    MGODRK    MGODPR  \\\n",
      "0  0.680906  -0.27258  0.406697 -1.216964  0.779405 -0.694311  0.217444   \n",
      "1  0.992297  -0.27258 -0.859500 -1.216964  0.779405  0.302552 -0.365410   \n",
      "2  0.992297  -0.27258 -0.859500 -1.216964  0.779405 -0.694311 -0.365410   \n",
      "3 -1.187437  -0.27258  0.406697  0.010755 -0.970980  1.299414 -0.948264   \n",
      "4  1.225840  -0.27258  1.672893 -1.216964  1.479559  0.302552 -0.365410   \n",
      "\n",
      "     MGODOV    MGODGE    MRELGE  ...   ALEVEN  APERSONG   AGEZONG  AWAOREG  \\\n",
      "0 -0.068711 -0.161816  0.427670  ... -0.20291 -0.073165 -0.081055 -0.05992   \n",
      "1 -0.068711  0.464159 -0.096077  ... -0.20291 -0.073165 -0.081055 -0.05992   \n",
      "2  0.914172  0.464159 -1.667319  ... -0.20291 -0.073165 -0.081055 -0.05992   \n",
      "3  0.914172  0.464159 -0.619824  ... -0.20291 -0.073165 -0.081055 -0.05992   \n",
      "4 -0.068711  0.464159  0.427670  ... -0.20291 -0.073165 -0.081055 -0.05992   \n",
      "\n",
      "     ABRAND   AZEILPL  APLEZIER   AFIETS   AINBOED  ABYSTAND  \n",
      "0  0.764971 -0.022706  -0.07365 -0.15062 -0.087348 -0.118816  \n",
      "1  0.764971 -0.022706  -0.07365 -0.15062 -0.087348 -0.118816  \n",
      "2  0.764971 -0.022706  -0.07365 -0.15062 -0.087348 -0.118816  \n",
      "3  0.764971 -0.022706  -0.07365 -0.15062 -0.087348 -0.118816  \n",
      "4  0.764971 -0.022706  -0.07365 -0.15062 -0.087348 -0.118816  \n",
      "\n",
      "[5 rows x 85 columns]\n"
     ]
    }
   ],
   "source": [
    "# Select predictors (excluding the 86th column)\n",
    "predictors = Caravan.iloc[:, :-1]\n",
    "\n",
    "# Standardize the predictors\n",
    "scaler = StandardScaler()\n",
    "predictors_standardized = pd.DataFrame(scaler.fit_transform(predictors), columns=predictors.columns)\n",
    "\n",
    "# Display the head of the standardized predictors\n",
    "print(predictors_standardized.head())"
   ]
  },
  {
   "cell_type": "markdown",
   "id": "227b3eaa-698e-4190-97cd-098e0e3d532e",
   "metadata": {},
   "source": [
    "_(v)_ Why is it important to standardize the predictor variables?  \n",
    "_(vi)_ Why did we elect not to standard our response variable `Purchase`?  \n"
   ]
  },
  {
   "cell_type": "markdown",
   "id": "94f5e321",
   "metadata": {},
   "source": [
    "(v ) Why is it important to standardize the predictor variables?\n",
    "Standardizing predictor variables is essential in ensuring that no single variable disproportionately affects the model, leading to more balanced, accurate, and interpretable results. For KNN, which heavily relies on distance measures, standardization is especially critical to ensure fair comparison and accurate classification.\n",
    "\n",
    "In practice, using tools like StandardScaler from sklearn.preprocessing helps automate this standardization process, ensuring that each feature's mean is 0 and the standard deviation is 1, thereby normalizing their influence in distance-based calculations."
   ]
  },
  {
   "cell_type": "markdown",
   "id": "f5cf2c74",
   "metadata": {},
   "source": [
    "(vi) Why did we elect not to standard our response variable Purchase?\n",
    "\n",
    "Standardizing the response variable, such as \"Purchase\" in this case, is typically not necessary or recommended for several reasons:\n",
    "\n",
    "Preserving interpretability: Standardizing the response variable can make interpretation more challenging. For example, if the response variable represents monetary amounts like purchase prices, standardizing it would change its units to standard deviations from the mean, which might not be meaningful or interpretable in the context of the problem.\n",
    "\n",
    "Maintaining the original scale: In many cases, maintaining the original scale of the response variable is important for understanding the magnitude and implications of the model's predictions. Standardizing it would remove this original scale information.\n",
    "\n",
    "Model evaluation: When evaluating the performance of a model, especially in terms of metrics like mean squared error (MSE) or mean absolute error (MAE), it's important to use the original scale of the response variable to assess how well the model is performing in real-world terms.\n",
    "\n",
    "Application-specific considerations: In some cases, there may be domain-specific reasons for not standardizing the response variable. For example, in finance, it might be essential to preserve the original currency units for decision-making purposes."
   ]
  },
  {
   "cell_type": "markdown",
   "id": "28ffb22f",
   "metadata": {},
   "source": [
    "\n",
    "_(vii)_ A second essential step is to set a random seed. Do so below (Hint: use the `random.seed` function). Why is setting a seed important? Is the particular seed value important? Why or why not?"
   ]
  },
  {
   "cell_type": "code",
   "execution_count": 11,
   "id": "230fd782-cfe1-45e6-ad00-a67e6b04d024",
   "metadata": {},
   "outputs": [],
   "source": [
    "# Add your code here\n",
    "import random\n",
    "\n",
    "# Set a random seed for reproducibility\n",
    "random.seed(42)\n"
   ]
  },
  {
   "cell_type": "markdown",
   "id": "eabec391",
   "metadata": {},
   "source": [
    "Setting a random seed is crucial in ensuring reproducibility and consistency in machine learning experiments. By setting a random seed, you fix the initial state of the random number generator, which ensures that the same sequence of random numbers is generated each time you run the code. This consistency allows for reproducible results and facilitates debugging, sharing, and comparing experiments.\n",
    "\n",
    "The particular seed value chosen is not inherently important in most cases. The primary purpose is to ensure that the same sequence of random numbers is generated across different runs of the code. As long as the chosen seed is consistent across experiments, the specific value itself does not significantly affect the results. However, it's essential to document the seed value used to ensure transparency and reproducibility in research."
   ]
  },
  {
   "cell_type": "markdown",
   "id": "fe4862c6-ed52-402f-b3f0-fead91646033",
   "metadata": {},
   "source": [
    "_(viii)_ A third essential step is to split our standardized data into separate training and testing sets. We will split into 75% training and 25% testing. The provided code randomly partitions our data, and creates linked training sets for the predictors and response variables. Extend the code to create a non-overlapping test set for the predictors and response variables."
   ]
  },
  {
   "cell_type": "code",
   "execution_count": 20,
   "id": "cbe9f219-571b-476b-9f5b-b47431c803b1",
   "metadata": {},
   "outputs": [],
   "source": [
    "# Create a random vector of True and False values\n",
    "split = np.random.choice([True, False], size=len(predictors_standardized), replace=True, p=[0.75, 0.25])\n",
    "\n",
    "# Define the training set for X (predictors)\n",
    "training_X = predictors_standardized[split]\n",
    "\n",
    "# Define the training set for Y (response)\n",
    "training_Y = Caravan.loc[split, 'Purchase']\n",
    "\n",
    "# Define the testing set for X (predictors)\n",
    "testing_X = predictors_standardized[~split]\n",
    "\n",
    "# Define the testing set for Y (response)\n",
    "testing_Y = Caravan.loc[~split, 'Purchase']\n"
   ]
  },
  {
   "cell_type": "markdown",
   "id": "58f16dbc-0be6-4cc8-b2c4-edab7042c702",
   "metadata": {},
   "source": [
    "_(ix)_ We are finally set to fit the KNN model. In Python, we can use the `KNeighborsClassifier()` function. Fit the KNN with k=1. (You may review arguments to knn by typing `help(knn.fit)`). "
   ]
  },
  {
   "cell_type": "code",
   "execution_count": 23,
   "id": "e6a117de-279b-4320-b64e-4051ba2887d2",
   "metadata": {},
   "outputs": [
    {
     "name": "stdout",
     "output_type": "stream",
     "text": [
      "Prediction accuracy: 0.8848275862068965\n"
     ]
    }
   ],
   "source": [
    "# Add your code here\n",
    "from sklearn.neighbors import KNeighborsClassifier\n",
    "\n",
    "# Create a KNN classifier object with k=1\n",
    "knn = KNeighborsClassifier(n_neighbors=1)\n",
    "\n",
    "# Fit the KNN model to training data\n",
    "knn.fit(training_X , training_Y)\n",
    "\n",
    "# Calculate the prediction accuracy on the test set\n",
    "accuracy = knn.score(testing_X,testing_Y )\n",
    "\n",
    "# Print the prediction accuracy\n",
    "print(\"Prediction accuracy:\", accuracy)\n",
    "\n",
    "\n"
   ]
  },
  {
   "cell_type": "markdown",
   "id": "eb33a32a-95d3-49db-bb1b-663360267b18",
   "metadata": {},
   "source": [
    "Using your fit model, answer the following questions:   \n",
    "_(x)_ What is the prediction accuracy? (Hint: use the `score` method, and compare your model to `testing_Y`)  \n",
    "_(xi)_ What is the predictor error ? (Hint: compute it from the accuracy)"
   ]
  },
  {
   "cell_type": "code",
   "execution_count": 24,
   "id": "d4f03092",
   "metadata": {},
   "outputs": [
    {
     "name": "stdout",
     "output_type": "stream",
     "text": [
      "Prediction accuracy rate: 88.48%\n"
     ]
    }
   ],
   "source": [
    "# Assuming accuracy is calculated previously\n",
    "accuracy_rate = accuracy * 100\n",
    "print(\"Prediction accuracy rate: {:.2f}%\".format(accuracy_rate))\n"
   ]
  },
  {
   "cell_type": "code",
   "execution_count": null,
   "id": "74dbe6c4-1a4d-4f06-9e2e-597da03952ed",
   "metadata": {},
   "outputs": [],
   "source": [
    "# prediction accuracy rate  88.48%"
   ]
  },
  {
   "cell_type": "code",
   "execution_count": 25,
   "id": "ac7e787b",
   "metadata": {},
   "outputs": [
    {
     "name": "stdout",
     "output_type": "stream",
     "text": [
      "Prediction error rate: 11.52%\n"
     ]
    }
   ],
   "source": [
    "\n",
    "error_rate = 1 - accuracy\n",
    "print(\"Prediction error rate: {:.2f}%\".format(error_rate * 100))\n"
   ]
  },
  {
   "cell_type": "code",
   "execution_count": null,
   "id": "9384d3f0",
   "metadata": {},
   "outputs": [],
   "source": [
    "# prediction error rate 11.52%"
   ]
  },
  {
   "cell_type": "markdown",
   "id": "dce9342c-9dcd-4f6d-b437-6065417483db",
   "metadata": {},
   "source": [
    "_(xii)_ How does this prediction error/accuracy compare to what could be achieved via random guesses? To answer this, consider the percent of customers in the `Caravan` dataset who actually purchase insurance, computed below:"
   ]
  },
  {
   "cell_type": "code",
   "execution_count": 26,
   "id": "c89ade30-3465-4104-b300-61d78b319d3c",
   "metadata": {},
   "outputs": [
    {
     "name": "stdout",
     "output_type": "stream",
     "text": [
      "6.357325538911216\n"
     ]
    }
   ],
   "source": [
    "# Calculate the percentage of customers who purchase insurance\n",
    "percentage_purchase = (Caravan['Purchase'].eq('Yes').sum() / Caravan['Purchase'].eq('No').sum()) * 100\n",
    "\n",
    "print(percentage_purchase)"
   ]
  },
  {
   "cell_type": "markdown",
   "id": "a7e19b5e-ad65-47f8-a3ef-e0f68a75048e",
   "metadata": {},
   "source": [
    "_(xiii)_ Fit a second KNN model, with $K=3$. Does this model perform better (i.e., have higher accuracy, compared to a random guess)?"
   ]
  },
  {
   "cell_type": "code",
   "execution_count": 29,
   "id": "fedbe4f2",
   "metadata": {},
   "outputs": [
    {
     "name": "stdout",
     "output_type": "stream",
     "text": [
      "Prediction accuracy of the second KNN model (k=3): 92.48%\n",
      "Random guess accuracy rate: 5.98%\n",
      "The second KNN model (k=3) performs better than random guessing.\n"
     ]
    }
   ],
   "source": [
    "# Your code here\n",
    "from sklearn.neighbors import KNeighborsClassifier\n",
    "\n",
    "# Create a KNN classifier object with k=3\n",
    "knn_2 = KNeighborsClassifier(n_neighbors=3)\n",
    "\n",
    "# Fit the second KNN model to training data\n",
    "knn_2.fit(training_X, training_Y)\n",
    "\n",
    "# Calculate the prediction accuracy on the test set for the second model\n",
    "accuracy_2 = knn_2.score(testing_X, testing_Y)\n",
    "\n",
    "# Print the prediction accuracy of the second model\n",
    "print(\"Prediction accuracy of the second KNN model (k=3): {:.2f}%\".format(accuracy_2 * 100))\n",
    "\n",
    "# Calculate the percentage of customers who purchase insurance\n",
    "percentage_purchase = (Caravan['Purchase'].eq('Yes').sum() / len(Caravan)) * 100\n",
    "\n",
    "# If the percentage of customers who purchase insurance is used for random guessing,\n",
    "# the accuracy rate would be the same as the percentage of customers who purchase insurance\n",
    "random_guess_accuracy = percentage_purchase / 100\n",
    "\n",
    "# Print the random guess accuracy rate\n",
    "print(\"Random guess accuracy rate: {:.2f}%\".format(random_guess_accuracy * 100))\n",
    "\n",
    "# Compare the accuracy of the second model with random guess accuracy\n",
    "if accuracy_2 > random_guess_accuracy:\n",
    "    print(\"The second KNN model (k=3) performs better than random guessing.\")\n",
    "elif accuracy_2 == random_guess_accuracy:\n",
    "    print(\"The second KNN model (k=3) has the same accuracy as random guessing.\")\n",
    "else:\n",
    "    print(\"The second KNN model (k=3) performs worse than random guessing.\")\n"
   ]
  },
  {
   "cell_type": "markdown",
   "id": "93c5050f",
   "metadata": {},
   "source": [
    "# Criteria\n",
    "\n",
    "|Criteria            |Complete           |Incomplete          |\n",
    "|--------------------|---------------|--------------|\n",
    "|Classification using KNN|All steps are done correctly and the answers are correct.|At least one step is done incorrectly leading to a wrong answer.|"
   ]
  },
  {
   "cell_type": "markdown",
   "id": "bbf69b4d",
   "metadata": {},
   "source": [
    "## Submission Information\n",
    "\n",
    "🚨 **Please review our [Assignment Submission Guide](https://github.com/UofT-DSI/onboarding/blob/main/onboarding_documents/submissions.md)** 🚨 for detailed instructions on how to format, branch, and submit your work. Following these guidelines is crucial for your submissions to be evaluated correctly.\n",
    "\n",
    "### Submission Parameters:\n",
    "* Submission Due Date: `HH:MM AM/PM - DD/MM/YYYY`\n",
    "* The branch name for your repo should be: `assignment-2`\n",
    "* What to submit for this assignment:\n",
    "    * This Jupyter Notebook (assignment_2.ipynb) should be populated and should be the only change in your pull request.\n",
    "* What the pull request link should look like for this assignment: `https://github.com/<your_github_username>/applied_statistical_concepts/pull/<pr_id>`\n",
    "    * Open a private window in your browser. Copy and paste the link to your pull request into the address bar. Make sure you can see your pull request properly. This helps the technical facilitator and learning support staff review your submission easily.\n",
    "\n",
    "Checklist:\n",
    "- [ ] Created a branch with the correct naming convention.\n",
    "- [ ] Ensured that the repository is public.\n",
    "- [ ] Reviewed the PR description guidelines and adhered to them.\n",
    "- [ ] Verify that the link is accessible in a private browser window.\n",
    "\n",
    "If you encounter any difficulties or have questions, please don't hesitate to reach out to our team via our Slack at `#cohort-3-help`. Our Technical Facilitators and Learning Support staff are here to help you navigate any challenges.\n"
   ]
  }
 ],
 "metadata": {
  "kernelspec": {
   "display_name": "Python 3.10.4",
   "language": "python",
   "name": "python3"
  },
  "language_info": {
   "codemirror_mode": {
    "name": "ipython",
    "version": 3
   },
   "file_extension": ".py",
   "mimetype": "text/x-python",
   "name": "python",
   "nbconvert_exporter": "python",
   "pygments_lexer": "ipython3",
   "version": "3.11.9"
  },
  "vscode": {
   "interpreter": {
    "hash": "497a84dc8fec8cf8d24e7e87b6d954c9a18a327edc66feb9b9ea7e9e72cc5c7e"
   }
  }
 },
 "nbformat": 4,
 "nbformat_minor": 5
}
