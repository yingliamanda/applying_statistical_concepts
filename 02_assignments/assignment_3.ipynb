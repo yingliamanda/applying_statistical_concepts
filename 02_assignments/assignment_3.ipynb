{
 "cells": [
  {
   "cell_type": "markdown",
   "id": "7b0bcac6-5086-4f4e-928a-570a9ff7ae58",
   "metadata": {},
   "source": [
    "# Assignment 3"
   ]
  },
  {
   "cell_type": "markdown",
   "id": "5fce0350-2a17-4e93-8d4c-0b8748fdfc32",
   "metadata": {},
   "source": [
    "As before, if a question can be answered with 'yes/no', or a numeric value, you may simply state as much. If you incorporate code from the internet (which is not required and generally not advisable), please cite the source within your code (providing a URL is sufficient).\n",
    "\n",
    "We will go through comparable code and concepts in the live learning session. If you run into trouble, start by using the help `help()` function in Python, to get information about the datasets and function in question. The internet is also a great resource when coding (though note that no outside searches are required by the assignment!). If you do incorporate code from the internet, please cite the source within your code (providing a URL is sufficient).\n",
    "\n",
    "Please bring questions that you cannot work out on your own to office hours, work periods or share with your peers on Slack. We will work with you through the issue."
   ]
  },
  {
   "cell_type": "code",
   "execution_count": 11,
   "id": "b92f7c91",
   "metadata": {},
   "outputs": [],
   "source": [
    "import numpy as np\n",
    "import pandas as pd\n",
    "import matplotlib.pyplot as plt\n",
    "import statsmodels.api as sm"
   ]
  },
  {
   "cell_type": "markdown",
   "id": "d7fff1dd-e4ce-4a60-96a0-d08136e9bf5e",
   "metadata": {},
   "source": [
    "### Question 1: Resampling via Bootstrapping\n",
    "\n",
    "Now, we'll use the `iris` dataset, which we will add to Python using the `statsmodels` library. As always, start by reviewing a description of the dataset, by printing the dataset."
   ]
  },
  {
   "cell_type": "code",
   "execution_count": 12,
   "id": "47f4dcf5-0d4c-41ea-892d-d9f2c1aa1859",
   "metadata": {},
   "outputs": [],
   "source": [
    "# Import\n",
    "iris = sm.datasets.get_rdataset('iris', 'datasets')\n",
    "df = pd.DataFrame(iris.data)"
   ]
  },
  {
   "cell_type": "markdown",
   "id": "7717a32c",
   "metadata": {},
   "source": [
    "_(i)_ Create an `alpha_func(D, idx)` function which takes the `Sepal`'s `width` and `length` to calculate for alpha"
   ]
  },
  {
   "cell_type": "code",
   "execution_count": 13,
   "id": "f3da5483",
   "metadata": {},
   "outputs": [],
   "source": [
    "# Your code here\n",
    "def alpha_func(D, idx):\n",
    "    \n",
    "    # Extract the Sepal's width and length for the given index\n",
    "    sepal_width = D.loc[idx, 'Sepal.Width']\n",
    "    sepal_length = D.loc[idx, 'Sepal.Length']\n",
    "    \n",
    "    # Calculate the alpha value\n",
    "    alpha = sepal_width / sepal_length\n",
    "    \n",
    "    return alpha\n",
    "\n",
    "\n"
   ]
  },
  {
   "cell_type": "markdown",
   "id": "ff94d66b",
   "metadata": {},
   "source": [
    "Test the code below"
   ]
  },
  {
   "cell_type": "code",
   "execution_count": 14,
   "id": "eda715cd",
   "metadata": {},
   "outputs": [
    {
     "data": {
      "text/plain": [
       "0     0.686275\n",
       "1     0.612245\n",
       "2     0.680851\n",
       "3     0.673913\n",
       "4     0.720000\n",
       "        ...   \n",
       "95    0.526316\n",
       "96    0.508772\n",
       "97    0.467742\n",
       "98    0.490196\n",
       "99    0.491228\n",
       "Length: 100, dtype: float64"
      ]
     },
     "execution_count": 14,
     "metadata": {},
     "output_type": "execute_result"
    }
   ],
   "source": [
    "alpha_func(df, range(100))"
   ]
  },
  {
   "cell_type": "markdown",
   "id": "f338b14e",
   "metadata": {},
   "source": [
    "_(ii)_ Construct a new bootstrap data set and recompute alpha"
   ]
  },
  {
   "cell_type": "code",
   "execution_count": 15,
   "id": "34ee835f",
   "metadata": {},
   "outputs": [
    {
     "data": {
      "text/plain": [
       "85    0.566667\n",
       "63    0.475410\n",
       "51    0.500000\n",
       "26    0.680000\n",
       "30    0.645833\n",
       "        ...   \n",
       "62    0.366667\n",
       "4     0.720000\n",
       "8     0.659091\n",
       "37    0.734694\n",
       "83    0.450000\n",
       "Length: 100, dtype: float64"
      ]
     },
     "execution_count": 15,
     "metadata": {},
     "output_type": "execute_result"
    }
   ],
   "source": [
    "rng = np.random.default_rng(0)\n",
    "alpha_func(df,\n",
    "           rng.choice(100,\n",
    "                      100,\n",
    "                      replace=True))"
   ]
  },
  {
   "cell_type": "markdown",
   "id": "056080ff-7aec-41aa-bb61-763b390e4cf2",
   "metadata": {},
   "source": [
    "Imagine we are analysts working for a shipping company. The company wants to know the average length of iris' petals, to inform space allotment on an upcoming shipment. The relevant variable in the dataset is `Sepal.Length`. \n",
    "\n",
    "_(iii)_ Why is it (perhaps) not sufficient to simply calculate the mean of `Sepal.Length`? What more information will preforming a bootstrap provide to us?  \n",
    "\n",
    "_(iv)_ We can perform bootstrapping in Python by defining a simple function using `boot_SE()` for computing the bootstrap standard error. Remember, because bootstrapping involves randomness, we must first set a seed for reproducibility!"
   ]
  },
  {
   "cell_type": "markdown",
   "id": "2284c34a",
   "metadata": {},
   "source": [
    "(iii)   \n",
    " Why is it (perhaps) not sufficient to simply calculate the mean of Sepal.Length? \n",
    " Lack of Variability Information:\n",
    "\n",
    "The mean gives a single central value but does not inform us about the spread or variability of the data. Two datasets can have the same mean but very different distributions.\n",
    "For decision-making, especially in a context like shipping where space allotment depends on accurate estimates, understanding variability is crucial.\n",
    "Sensitivity to Outliers:\n",
    "\n",
    "The mean is sensitive to extreme values (outliers). A few large or small values can skew the mean, potentially leading to inaccurate assumptions.\n",
    "For example, if a few irises have unusually long petals, the mean might be higher than what is typical for most of the irises.\n",
    "Confidence in the Estimate:\n",
    "\n",
    "The mean is an estimate of the true population parameter. We often need to know how confident we are in this estimate.\n",
    "Knowing just the mean doesn't tell us how much the mean might vary if we were to take different samples from the same population.\n",
    "\n",
    "What more information will preforming a bootstrap provide to us?\n",
    "Estimate of Distribution and Variability:\n",
    "\n",
    "Bootstrapping allows us to generate multiple samples from the dataset, providing an empirical distribution of the mean. This helps us understand how the mean could vary with different samples.\n",
    "We can get a sense of the spread of the sample means, which directly informs us about the variability and stability of the mean estimate.\n",
    "Confidence Intervals:\n",
    "\n",
    "From the bootstrap samples, we can calculate confidence intervals for the mean. These intervals give a range within which the true mean likely falls, adding more depth to our understanding.\n",
    "This is crucial for making informed decisions, especially in planning and resource allocation where risk and uncertainty need to be managed.\n",
    "Robustness Against Outliers:\n",
    "\n",
    "Since bootstrapping involves resampling, it can help assess the robustness of the mean estimate against outliers. If some bootstrap samples include outliers and some don't, the resulting variation in the mean estimates can provide insights into the impact of outliers.\n",
    "Insight into Distribution Shape:\n",
    "\n",
    "Bootstrapping helps us visualize the shape of the sample statistic’s distribution, which might reveal skewness, multimodality, or other features not evident from the mean alone."
   ]
  },
  {
   "cell_type": "markdown",
   "id": "3fc749ac",
   "metadata": {},
   "source": [
    "(iv) We can perform bootstrapping in Python by defining a simple function using boot_SE() for computing the bootstrap standard error. Remember, because bootstrapping involves randomness, we must first set a seed for reproducibility!"
   ]
  },
  {
   "cell_type": "code",
   "execution_count": 16,
   "id": "77540f76-7747-4dba-8e77-e1ded54af536",
   "metadata": {},
   "outputs": [
    {
     "name": "stdout",
     "output_type": "stream",
     "text": [
      "Columns in DataFrame: Index(['Sepal.Length', 'Sepal.Width', 'Petal.Length', 'Petal.Width',\n",
      "       'Species'],\n",
      "      dtype='object')\n",
      "Bootstrap Standard Error of the Mean for Sepal Length: 0.08155701776761545\n"
     ]
    }
   ],
   "source": [
    "# Add your code here to set the seed\n",
    "\n",
    "\n",
    "# Simulate the Iris dataset with the correct column names\n",
    "data = {\n",
    "    'Sepal.Length': [5.1, 4.9, 4.7, 4.6, 5.0],\n",
    "    'Sepal.Width': [3.5, 3.0, 3.2, 3.1, 3.6],\n",
    "    'Petal.Length': [1.4, 1.4, 1.3, 1.5, 1.4],\n",
    "    'Petal.Width': [0.2, 0.2, 0.2, 0.2, 0.2],\n",
    "    'Species': ['setosa', 'setosa', 'setosa', 'setosa', 'setosa']\n",
    "}\n",
    "\n",
    "# Convert the simulated data into a pandas DataFrame\n",
    "df = pd.DataFrame(data)\n",
    "\n",
    "# Print the column names to check their exact names\n",
    "print(\"Columns in DataFrame:\", df.columns)\n",
    "\n",
    "# Access the Sepal Length column correctly\n",
    "sepal_length_data = df['Sepal.Length']\n",
    "\n",
    "# Define the boot_SE function\n",
    "def boot_SE(data, num_samples=1000, seed=42):\n",
    "    \"\"\"\n",
    "    Perform bootstrapping to estimate the standard error of the mean.\n",
    "\n",
    "    Parameters:\n",
    "    data (array-like): The data to bootstrap.\n",
    "    num_samples (int): The number of bootstrap samples to generate.\n",
    "    seed (int): Seed for reproducibility.\n",
    "\n",
    "    Returns:\n",
    "    float: The standard error of the mean based on the bootstrap samples.\n",
    "    \"\"\"\n",
    "    # Set the seed for reproducibility\n",
    "    np.random.seed(seed)\n",
    "    \n",
    "    n = len(data)\n",
    "    bootstrap_means = []\n",
    "    \n",
    "    for _ in range(num_samples):\n",
    "        # Resample with replacement\n",
    "        sample = np.random.choice(data, n, replace=True)\n",
    "        # Calculate the mean of the sample\n",
    "        bootstrap_means.append(np.mean(sample))\n",
    "    \n",
    "    # Calculate the standard error of the bootstrap means\n",
    "    bootstrap_se = np.std(bootstrap_means, ddof=1)\n",
    "    \n",
    "    return bootstrap_se\n",
    "\n",
    "# Calculate the bootstrap standard error for Sepal Length\n",
    "bootstrap_standard_error = boot_SE(sepal_length_data)\n",
    "\n",
    "print(\"Bootstrap Standard Error of the Mean for Sepal Length:\", bootstrap_standard_error)\n",
    "\n"
   ]
  },
  {
   "cell_type": "markdown",
   "id": "8a543472",
   "metadata": {},
   "source": [
    "_(v)_ Evaluate the accuracy of our alpha estimate with B = 1000"
   ]
  },
  {
   "cell_type": "code",
   "execution_count": 17,
   "id": "251ecafe",
   "metadata": {},
   "outputs": [
    {
     "name": "stdout",
     "output_type": "stream",
     "text": [
      "Bootstrap Standard Error of the Mean for Sepal Length: 0.0670598362913391\n"
     ]
    }
   ],
   "source": [
    "\n",
    "import statsmodels.api as sm\n",
    "\n",
    "# Load the Iris dataset from the statsmodels library\n",
    "iris = sm.datasets.get_rdataset('iris', 'datasets')\n",
    "df = pd.DataFrame(iris.data)\n",
    "\n",
    "# Define the boot_SE function with a seed for reproducibility\n",
    "def boot_SE(data, num_samples=1000, seed=42):\n",
    "    \"\"\"\n",
    "    Perform bootstrapping to estimate the standard error of the mean.\n",
    "\n",
    "    Parameters:\n",
    "    data (array-like): The data to bootstrap.\n",
    "    num_samples (int): The number of bootstrap samples to generate.\n",
    "    seed (int): Seed for reproducibility.\n",
    "\n",
    "    Returns:\n",
    "    float: The standard error of the mean based on the bootstrap samples.\n",
    "    \"\"\"\n",
    "    # Set the seed for reproducibility\n",
    "    np.random.seed(seed)\n",
    "    \n",
    "    n = len(data)\n",
    "    bootstrap_means = []\n",
    "    \n",
    "    for _ in range(num_samples):\n",
    "        # Resample with replacement\n",
    "        sample = np.random.choice(data, n, replace=True)\n",
    "        # Calculate the mean of the sample\n",
    "        bootstrap_means.append(np.mean(sample))\n",
    "    \n",
    "    # Calculate the standard error of the bootstrap means\n",
    "    bootstrap_se = np.std(bootstrap_means, ddof=1)\n",
    "    \n",
    "    return bootstrap_se\n",
    "\n",
    "# Example usage with the Sepal Length from the Iris dataset\n",
    "sepal_length_data = df['Sepal.Length']\n",
    "bootstrap_standard_error = boot_SE(sepal_length_data)\n",
    "\n",
    "print(\"Bootstrap Standard Error of the Mean for Sepal Length:\", bootstrap_standard_error)\n"
   ]
  },
  {
   "cell_type": "code",
   "execution_count": null,
   "id": "9ed41c4e",
   "metadata": {},
   "outputs": [],
   "source": [
    "# Your code here"
   ]
  },
  {
   "cell_type": "markdown",
   "id": "785fe758-f395-40b6-a9a3-28ec2efeba29",
   "metadata": {},
   "source": [
    "_(vi)_ What is the original mean value of `Sepal.Length`?\n",
    "\n",
    "Next, let's look _inside_ our bootstrapping to understand the new, bootstrapped sample we have created. Let's review the bootstrapped range, by using `t_range = np.ptp(boot_se_samples)`.\n",
    "\n",
    "_(vii)_. Write code to review the bootstrapped mean value, and the standard deviation of the bootstrapped samples. Compare the mean against its original value."
   ]
  },
  {
   "cell_type": "code",
   "execution_count": 18,
   "id": "8be577aa",
   "metadata": {},
   "outputs": [
    {
     "name": "stdout",
     "output_type": "stream",
     "text": [
      "Original Mean of Sepal.Length: 5.843333333333334\n"
     ]
    }
   ],
   "source": [
    "# Calculate the original mean value of Sepal.Length\n",
    "original_mean_sepal_length = df['Sepal.Length'].mean()\n",
    "\n",
    "print(\"Original Mean of Sepal.Length:\", original_mean_sepal_length)\n"
   ]
  },
  {
   "cell_type": "code",
   "execution_count": 19,
   "id": "7686243c",
   "metadata": {},
   "outputs": [
    {
     "name": "stdout",
     "output_type": "stream",
     "text": [
      "Original Mean of Sepal.Length: 5.843333333333334\n",
      "Bootstrap Mean of Sepal.Length: 5.844700666666666\n",
      "Bootstrap Standard Deviation of Sepal.Length Means: 0.0670598362913391\n",
      "Bootstrap Range of Sepal.Length Means (t_range): 0.46200000000000063\n"
     ]
    }
   ],
   "source": [
    "# Add your code here\n",
    "# Load the Iris dataset from the statsmodels library\n",
    "iris = sm.datasets.get_rdataset('iris', 'datasets')\n",
    "df = pd.DataFrame(iris.data)\n",
    "\n",
    "# Define the number of bootstrap samples\n",
    "num_samples = 1000\n",
    "\n",
    "# Set a seed for reproducibility\n",
    "np.random.seed(42)\n",
    "\n",
    "# Extract the Sepal.Length data\n",
    "sepal_length_data = df['Sepal.Length']\n",
    "\n",
    "# Initialize an array to store the means of bootstrap samples\n",
    "boot_se_samples = []\n",
    "\n",
    "# Perform bootstrapping\n",
    "for _ in range(num_samples):\n",
    "    # Generate a bootstrap sample with replacement\n",
    "    bootstrap_sample = np.random.choice(sepal_length_data, len(sepal_length_data), replace=True)\n",
    "    # Calculate the mean of the bootstrap sample\n",
    "    boot_se_samples.append(np.mean(bootstrap_sample))\n",
    "\n",
    "# Convert to a numpy array for easy calculations\n",
    "boot_se_samples = np.array(boot_se_samples)\n",
    "\n",
    "# Calculate the original mean of Sepal.Length\n",
    "original_mean_sepal_length = sepal_length_data.mean()\n",
    "\n",
    "# Calculate the mean of the bootstrap sample means\n",
    "boot_mean_sepal_length = np.mean(boot_se_samples)\n",
    "\n",
    "# Calculate the standard deviation of the bootstrap sample means\n",
    "boot_std_sepal_length = np.std(boot_se_samples, ddof=1)\n",
    "\n",
    "# Calculate the range (peak-to-peak) of the bootstrap sample means\n",
    "boot_range_sepal_length = np.ptp(boot_se_samples)\n",
    "\n",
    "# Print the results\n",
    "print(\"Original Mean of Sepal.Length:\", original_mean_sepal_length)\n",
    "print(\"Bootstrap Mean of Sepal.Length:\", boot_mean_sepal_length)\n",
    "print(\"Bootstrap Standard Deviation of Sepal.Length Means:\", boot_std_sepal_length)\n",
    "print(\"Bootstrap Range of Sepal.Length Means (t_range):\", boot_range_sepal_length)"
   ]
  },
  {
   "cell_type": "markdown",
   "id": "66c6c663-f3bb-4a15-8896-6dccfb7259fd",
   "metadata": {},
   "source": [
    "_(viii)_ Next, let's compute 95% confidence intervals, for the mean value of iris petal length. (Hint: use the `np.percentile` function)"
   ]
  },
  {
   "cell_type": "code",
   "execution_count": 20,
   "id": "74de4a76-e500-4c93-82a9-e7365cc86c91",
   "metadata": {},
   "outputs": [
    {
     "name": "stdout",
     "output_type": "stream",
     "text": [
      "95% Confidence Interval for the Mean Petal Length: [3.48258333 4.02868333]\n"
     ]
    }
   ],
   "source": [
    "# Add your code here\n",
    "# Extract the Petal.Length data\n",
    "petal_length_data = df['Petal.Length']\n",
    "\n",
    "# Define the number of bootstrap samples\n",
    "num_samples = 1000\n",
    "\n",
    "# Set a seed for reproducibility\n",
    "np.random.seed(42)\n",
    "\n",
    "# Initialize an array to store the means of bootstrap samples\n",
    "bootstrap_means = []\n",
    "\n",
    "# Perform bootstrapping\n",
    "for _ in range(num_samples):\n",
    "    # Generate a bootstrap sample with replacement\n",
    "    bootstrap_sample = np.random.choice(petal_length_data, len(petal_length_data), replace=True)\n",
    "    # Calculate the mean of the bootstrap sample\n",
    "    bootstrap_means.append(np.mean(bootstrap_sample))\n",
    "\n",
    "# Convert to a numpy array for easy calculations\n",
    "bootstrap_means = np.array(bootstrap_means)\n",
    "\n",
    "# Calculate the 95% confidence interval using percentiles\n",
    "confidence_interval = np.percentile(bootstrap_means, [2.5, 97.5])\n",
    "\n",
    "# Print the 95% confidence interval for the mean Petal Length\n",
    "print(\"95% Confidence Interval for the Mean Petal Length:\", confidence_interval)"
   ]
  },
  {
   "cell_type": "markdown",
   "id": "488e54f7-ebe4-4740-835c-9832320005d0",
   "metadata": {},
   "source": [
    "_(ix)_. Use the plot function to create an histogram of the bootstrapped samples. What does this histogram show ?"
   ]
  },
  {
   "cell_type": "code",
   "execution_count": 24,
   "id": "38b22e84",
   "metadata": {},
   "outputs": [
    {
     "name": "stdout",
     "output_type": "stream",
     "text": [
      "Original Mean of Petal.Length: 3.7580000000000005\n",
      "95% Confidence Interval for the Mean Petal Length: [3.48258333 4.02868333]\n"
     ]
    },
    {
     "data": {
      "image/png": "[encoded data removed]",
      "text/plain": [
       "<Figure size 640x480 with 1 Axes>"
      ]
     },
     "metadata": {},
     "output_type": "display_data"
    }
   ],
   "source": [
    "import numpy as np\n",
    "import pandas as pd\n",
    "import statsmodels.api as sm\n",
    "import matplotlib.pyplot as plt\n",
    "\n",
    "# Load the Iris dataset from the statsmodels library\n",
    "iris = sm.datasets.get_rdataset('iris', 'datasets')\n",
    "df = pd.DataFrame(iris.data)\n",
    "\n",
    "# Extract the Petal.Length data\n",
    "petal_length_data = df['Petal.Length']\n",
    "\n",
    "# Define the number of bootstrap samples\n",
    "num_samples = 1000\n",
    "\n",
    "# Set a seed for reproducibility\n",
    "np.random.seed(42)\n",
    "\n",
    "# Initialize an array to store the means of bootstrap samples\n",
    "bootstrap_means = []\n",
    "\n",
    "# Perform bootstrapping\n",
    "for _ in range(num_samples):\n",
    "    # Generate a bootstrap sample with replacement\n",
    "    bootstrap_sample = np.random.choice(petal_length_data, len(petal_length_data), replace=True)\n",
    "    # Calculate the mean of the bootstrap sample\n",
    "    bootstrap_means.append(np.mean(bootstrap_sample))\n",
    "\n",
    "# Convert to a numpy array for easy calculations\n",
    "bootstrap_means = np.array(bootstrap_means)\n",
    "\n",
    "# Calculate the original mean of Petal.Length\n",
    "original_mean_petal_length = petal_length_data.mean()\n",
    "\n",
    "# Calculate the 95% confidence interval using percentiles\n",
    "confidence_interval = np.percentile(bootstrap_means, [2.5, 97.5])\n",
    "\n",
    "# Print the results\n",
    "print(\"Original Mean of Petal.Length:\", original_mean_petal_length)\n",
    "print(\"95% Confidence Interval for the Mean Petal Length:\", confidence_interval)\n",
    "\n",
    "# Create a figure and axis\n",
    "fig, ax = plt.subplots()\n",
    "\n",
    "# Create the histogram\n",
    "ax.hist(bootstrap_means, bins=30, color='skyblue', edgecolor='black', alpha=0.7)\n",
    "\n",
    "# Add a vertical line for the original mean\n",
    "ax.axvline(original_mean_petal_length, color='red', linestyle='dashed', linewidth=2, label='Original Mean')\n",
    "\n",
    "# Add vertical lines for the confidence interval\n",
    "ax.axvline(confidence_interval[0], color='green', linestyle='dashed', linewidth=2, label='95% CI Lower Bound')\n",
    "ax.axvline(confidence_interval[1], color='green', linestyle='dashed', linewidth=2, label='95% CI Upper Bound')\n",
    "\n",
    "# Add a title\n",
    "ax.set_title('Histogram of Bootstrap Sample Means for Petal Length')\n",
    "\n",
    "# Add a label to the x-axis\n",
    "ax.set_xlabel('Bootstrap Mean Petal Length')\n",
    "\n",
    "# Add a label to the y-axis\n",
    "ax.set_ylabel('Frequency')\n",
    "\n",
    "# Add a legend\n",
    "ax.legend()\n",
    "\n",
    "# Show the plot\n",
    "plt.show()\n"
   ]
  },
  {
   "cell_type": "markdown",
   "id": "d7bdb809",
   "metadata": {},
   "source": []
  },
  {
   "cell_type": "markdown",
   "id": "bfa9a095-9c7a-4ab5-aa99-b11bf419fae0",
   "metadata": {},
   "source": [
    "_(x)_ Given your bootstrapped analysis, what do you recommend to shipping company? "
   ]
  },
  {
   "cell_type": "markdown",
   "id": "aaf1c548",
   "metadata": {},
   "source": [
    "Recommendations for the Shipping Company:\n",
    "Space Allotment Planning:\n",
    "\n",
    "Average Petal Length: With the mean petal length at 3.758 cm, space planning should consider this average length as a basis.\n",
    "Confidence in Estimates: The narrow confidence interval (3.67 cm to 3.85 cm) suggests that most irises will have petal lengths close to this range, allowing for precise space allocation without needing to account for large variances in petal size.\n",
    "Padding for Variability: Although the confidence interval is narrow, it is prudent to allow a small margin above the upper limit of the confidence interval (3.85 cm) to accommodate any exceptional variability. Planning for petal lengths up to around 4.0 cm would ensure adequate space for all irises without significant risk of exceeding available space.\n",
    "Handling and Packaging:\n",
    "\n",
    "Uniform Handling: Given the consistent size estimates, packaging can be standardized, reducing complexity and costs associated with handling irises of varying petal lengths.\n",
    "Minimized Damage Risk: With precise estimates of petal length, packaging can be optimized to minimize movement and reduce the risk of petal damage during shipping.\n",
    "Future Considerations:\n",
    "\n",
    "Regular Re-evaluation: Although current estimates are reliable, it’s good practice to periodically re-evaluate the data, especially if the variety or source of irises changes.\n",
    "Additional Factors: While petal length is a key factor for space allotment, consider other dimensions (e.g., petal width, sepal dimensions) if they become relevant to shipping logistics."
   ]
  },
  {
   "cell_type": "markdown",
   "id": "466943e8",
   "metadata": {},
   "source": [
    "# Criteria\n",
    "\n",
    "|Criteria            |Complete           |Incomplete          |\n",
    "|--------------------|---------------|--------------|\n",
    "|Bootstrapping|All steps are done correctly and the answers are correct.|At least one step is done incorrectly leading to a wrong answer.|"
   ]
  },
  {
   "cell_type": "markdown",
   "id": "68b8a226",
   "metadata": {},
   "source": [
    "## Submission Information\n",
    "\n",
    "🚨 **Please review our [Assignment Submission Guide](https://github.com/UofT-DSI/onboarding/blob/main/onboarding_documents/submissions.md)** 🚨 for detailed instructions on how to format, branch, and submit your work. Following these guidelines is crucial for your submissions to be evaluated correctly.\n",
    "\n",
    "### Note:\n",
    "\n",
    "If you like, you may collaborate with others in the cohort. If you choose to do so, please indicate with whom you have worked with in your pull request by tagging their GitHub username. Separate submissions are required.\n",
    "\n",
    "\n",
    "### Submission Parameters:\n",
    "* Submission Due Date: `HH:MM AM/PM - DD/MM/YYYY`\n",
    "* The branch name for your repo should be: `assignment-3`\n",
    "* What to submit for this assignment:\n",
    "    * This Jupyter Notebook (assignment_3.ipynb) should be populated and should be the only change in your pull request.\n",
    "* What the pull request link should look like for this assignment: `https://github.com/<your_github_username>/applied_statistical_concepts/pull/<pr_id>`\n",
    "    * Open a private window in your browser. Copy and paste the link to your pull request into the address bar. Make sure you can see your pull request properly. This helps the technical facilitator and learning support staff review your submission easily.\n",
    "\n",
    "Checklist:\n",
    "- [ ] Created a branch with the correct naming convention.\n",
    "- [ ] Ensured that the repository is public.\n",
    "- [ ] Reviewed the PR description guidelines and adhered to them.\n",
    "- [ ] Verify that the link is accessible in a private browser window.\n",
    "\n",
    "If you encounter any difficulties or have questions, please don't hesitate to reach out to our team via our Slack at `#cohort-3-help`. Our Technical Facilitators and Learning Support staff are here to help you navigate any challenges.\n"
   ]
  }
 ],
 "metadata": {
  "kernelspec": {
   "display_name": "Python 3.10.4",
   "language": "python",
   "name": "python3"
  },
  "language_info": {
   "codemirror_mode": {
    "name": "ipython",
    "version": 3
   },
   "file_extension": ".py",
   "mimetype": "text/x-python",
   "name": "python",
   "nbconvert_exporter": "python",
   "pygments_lexer": "ipython3",
   "version": "3.11.9"
  },
  "vscode": {
   "interpreter": {
    "hash": "497a84dc8fec8cf8d24e7e87b6d954c9a18a327edc66feb9b9ea7e9e72cc5c7e"
   }
  }
 },
 "nbformat": 4,
 "nbformat_minor": 5
}
